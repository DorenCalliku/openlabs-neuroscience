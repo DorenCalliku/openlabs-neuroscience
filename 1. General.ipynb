{
 "cells": [
  {
   "cell_type": "markdown",
   "metadata": {
    "slideshow": {
     "slide_type": "slide"
    }
   },
   "source": [
    "\n",
    "\n",
    "# The Spongy Brain\n",
    "\n",
    "<span style=\"color:green; font-weight:bold;\">Coffee Meetup for Neuroscience</span>\n",
    " \n",
    "\n",
    "- Introduction\n",
    "- Neuroscience Questions\n",
    "- Open resources\n",
    "    - MRI\n",
    "    - EEG\n",
    "    - Data science\n",
    "- <span style=\"color:green; font-weight:bold;\">Fun Topics !!!</span>\n",
    "- References\n"
   ]
  },
  {
   "cell_type": "markdown",
   "metadata": {
    "slideshow": {
     "slide_type": "slide"
    }
   },
   "source": [
    "## About me\n",
    "\n",
    "- __Doren__\n",
    "    - computer engineering @BilkentTR\n",
    "    - psychology & <span style=\"color:green; font-weight:bold;\">neuroscience</span> @PaviaIT\n",
    "- __Relevant-interests__\n",
    "    - fair social/medical algorithms \n",
    "    - neuro-psychiatry\n",
    "    - <span style=\"color:green; font-weight:bold;\">open tools</span> for understanding the human\n",
    "- __Others__\n",
    "    - web-dev\n",
    "    - data-science\n",
    "    - geo-tools"
   ]
  },
  {
   "cell_type": "markdown",
   "metadata": {
    "slideshow": {
     "slide_type": "slide"
    }
   },
   "source": [
    "> <span style=\"color:orange; font-weight:bold;\">WARNING</span>  \n",
    "> The content is based on sparse preferential readings of the literature.   \n",
    "> It is by no means an overall introduction to neuroscience.\n",
    "\n",
    "\n",
    "> <span style=\"color:green; font-weight: bold;\">INFO</span>   \n",
    "> The topics might be overwhelming, so feel free to <span style=\"color:green; font-weight: bold;\">jump in</span> at anytime!"
   ]
  },
  {
   "cell_type": "markdown",
   "metadata": {
    "slideshow": {
     "slide_type": "slide"
    }
   },
   "source": [
    "## Neuroscience and questions\n",
    "\n",
    "<br>\n",
    "\n",
    "<div class=\"row\">\n",
    "  <div class=\"col-md-8\" markdown=\"1\">\n",
    "      \n",
    "- __How is it to be?__\n",
    "    - cognitive, social, developmental\n",
    "    - theoretical, computational\n",
    "\n",
    "- __When/where is something broken?__\n",
    "    - medical, imaging, electrophysiology\n",
    "    - demographics, tests, MRI, EEG, genetics\n",
    "\n",
    "- __How to fix it?__\n",
    "    - therapy, pharmacology, neurotech\n",
    "      \n",
    "- __Where can tech help?__\n",
    "    - kind of <span style=\"color:green; font-weight:bold;\">everywhere</span>...\n",
    "  </div>\n",
    "  <div class=\"col-md-4\" markdown=\"1\">\n",
    "  <!-- ![Alt Text](docs/imgs/mri.jpg) -->\n",
    "  <img height=\"600px\" class=\"center-block\" src=\"docs/imgs/robin.png\">\n",
    "  </div>\n",
    "</div>\n",
    "\n"
   ]
  },
  {
   "cell_type": "markdown",
   "metadata": {
    "slideshow": {
     "slide_type": "slide"
    }
   },
   "source": [
    "### Mapping the fields\n",
    "\n",
    "<img height=\"800px\" class=\"center-block\" src=\"docs/imgs/fields-1.png\">"
   ]
  },
  {
   "cell_type": "markdown",
   "metadata": {
    "slideshow": {
     "slide_type": "slide"
    }
   },
   "source": [
    "![](docs/imgs/openneuro.png)"
   ]
  },
  {
   "cell_type": "markdown",
   "metadata": {
    "slideshow": {
     "slide_type": "slide"
    }
   },
   "source": [
    "## Neuroimaging\n",
    "\n",
    "<div class=\"row\">\n",
    "  <div class=\"col-md-6\" markdown=\"1\">\n",
    "      \n",
    "\n",
    "    \n",
    "Can be useful for cognitive studies, stroke, oncology, or geriatrics.\n",
    "\n",
    "You can use <span style=\"color:green; font-weight:bold;\">open datasets</span> for studying diseases like AD, Autism, or Schizophrenia. The base idea of neuroimaging is that:\n",
    "\n",
    "- brain consumes oxygen ~ brain activity\n",
    "- oxygen usage ~ magnetic resonance\n",
    "      \n",
    "Most analytical tools are built in MATLAB/C++ (`afni`, `fsl`). Lately added some python wrappers (`nilearn`, `nipype`).\n",
    "    \n",
    "  </div>\n",
    "  <div class=\"col-md-6\" markdown=\"1\">\n",
    "  <!--<img height=\"400px\" class=\"center-block\" src=\"docs/imgs/mri-6.jpg\">-->\n",
    "  <img height=\"800px\" class=\"center-block\" src=\"docs/imgs/mri-4.png\">\n",
    "  <img height=\"800px\" class=\"center-block\" src=\"docs/imgs/mri-5.png\">\n",
    "  </div>\n",
    "</div>"
   ]
  },
  {
   "cell_type": "markdown",
   "metadata": {
    "slideshow": {
     "slide_type": "slide"
    }
   },
   "source": [
    "## Electrophysiology\n",
    "\n",
    "\n",
    "<div class=\"row\">\n",
    "  <div class=\"col-md-6\" markdown=\"1\">\n",
    "      \n",
    "\n",
    "Can be useful for cognition, brain computer interfaces (__BCI__), epilepsy, or sleep studies.\n",
    "\n",
    "There are <span style=\"color:green; font-weight:bold;\">open datasets</span> for applying tools for recognizing brain waves that might be relevant to the clinical or cognitive studies. This can be helpful for prosthetics and cognitive trainings.\n",
    "\n",
    "The main analytical tools are `eeglab` (MATLAB) and `mne` (python).\n",
    "    \n",
    "  </div>\n",
    "  <div class=\"col-md-6\" markdown=\"1\">\n",
    "  <img height=\"800px\" class=\"center-block\" src=\"docs/imgs/eeg-brain-function.jpg\">\n",
    "  <img height=\"800px\" class=\"center-block\" src=\"docs/imgs/open-bci.png\">\n",
    "  </div>\n",
    "</div>\n"
   ]
  },
  {
   "cell_type": "markdown",
   "metadata": {
    "slideshow": {
     "slide_type": "slide"
    }
   },
   "source": [
    "## Data Science/ ML\n",
    "\n",
    "\n",
    "\n",
    "<div class=\"row\">\n",
    "  <div class=\"col-md-6\" markdown=\"1\">\n",
    "\n",
    "Can be useful for multimodal data analysis, creating diagnostic/prognostic models for subjects. \n",
    "\n",
    "The open datasets for complex cases like neurodegeneration or psychiatric diseases allow for building models that can target also <span style=\"color:green; font-weight:bold;\">single cases</span>, and can provide baseline analysis.\n",
    "\n",
    "The analytical tools can be statistical models based on `R`, `python`, or `MATLAB`.\n",
    "      \n",
    "  </div>\n",
    "  <div class=\"col-md-6\" markdown=\"1\">\n",
    "  <img height=\"800px\" class=\"center-block\" src=\"docs/imgs/nacc-c-1.png\">\n",
    "  </div>\n",
    "</div>\n",
    "\n"
   ]
  },
  {
   "cell_type": "markdown",
   "metadata": {
    "slideshow": {
     "slide_type": "slide"
    }
   },
   "source": [
    "<div class=\"row\">\n",
    "  <div class=\"col-md-6\" markdown=\"1\">\n",
    "\n",
    "    \n",
    "  <img height=\"800px\" class=\"center-block\" src=\"docs/imgs/feature-values.png\">\n",
    "      \n",
    "  </div>\n",
    "  <div class=\"col-md-6\" markdown=\"1\">\n",
    "  <img height=\"800px\" class=\"center-block\" src=\"docs/imgs/single-case-ftld.png\">\n",
    "      <b>Fig.</b> Single case based on shapley values.\n",
    "  </div>\n",
    "</div>"
   ]
  },
  {
   "cell_type": "markdown",
   "metadata": {
    "slideshow": {
     "slide_type": "slide"
    }
   },
   "source": [
    "### Prognosis through deep learning models\n",
    "\n",
    "![](docs/imgs/prognosis.png)\n"
   ]
  },
  {
   "cell_type": "markdown",
   "metadata": {
    "slideshow": {
     "slide_type": "slide"
    }
   },
   "source": [
    "## Fun Topics !!!\n",
    "\n",
    "- <span style=\"color:green; font-weight:bold;\">neurogenetics</span>: comparing brains with evolution-related projects\n",
    "- <span style=\"color:green; font-weight:bold;\">neurogenetics</span>neuropsychology: body dysmorphia disorders\n",
    "- <span style=\"color:green; font-weight:bold;\">neurotech</span>: body control through brain waves!\n",
    "- <span style=\"color:green; font-weight:bold;\">neuropharmacology</span>: developing drugs through open-science."
   ]
  },
  {
   "cell_type": "markdown",
   "metadata": {
    "slideshow": {
     "slide_type": "slide"
    }
   },
   "source": [
    "### <span style=\"color:green; font-weight: bold;\">Neurogenetics</span>: Comparison with evolutionary brain imaging!\n"
   ]
  },
  {
   "cell_type": "markdown",
   "metadata": {
    "slideshow": {
     "slide_type": "slide"
    }
   },
   "source": [
    "### <span style=\"color:green; font-weight: bold;\">Neuropsychology</span>: Body dysmorphia disorders!"
   ]
  },
  {
   "cell_type": "markdown",
   "metadata": {
    "slideshow": {
     "slide_type": "slide"
    }
   },
   "source": [
    "### <span style=\"color:green; font-weight: bold;\">Neuropsychology</span>: Body control through brain waves!"
   ]
  },
  {
   "cell_type": "markdown",
   "metadata": {
    "slideshow": {
     "slide_type": "slide"
    }
   },
   "source": [
    "### <span style=\"color:green; font-weight: bold;\">Neuropharmacology</span>: Open targets and developing drugs!\n",
    "\n"
   ]
  },
  {
   "cell_type": "markdown",
   "metadata": {
    "slideshow": {
     "slide_type": "slide"
    }
   },
   "source": [
    "## References\n",
    "\n",
    "- Research\n",
    "    - Robin: https://www.nature.com/articles/s42003-022-04213-y\n",
    "    - Prognosis: https://ieeexplore.ieee.org/ielaam/6221020/8984617/8765241-aam.pdf\n",
    " \n",
    "- Open-*\n",
    "    - OpenNeuro\n",
    "    - MNE-Python\n",
    "    - EEGLab\n",
    "    - Open-Targets\n",
    "\n"
   ]
  },
  {
   "cell_type": "code",
   "execution_count": null,
   "metadata": {
    "slideshow": {
     "slide_type": "skip"
    }
   },
   "outputs": [],
   "source": []
  }
 ],
 "metadata": {
  "celltoolbar": "Slideshow",
  "kernelspec": {
   "display_name": "Python 3 (ipykernel)",
   "language": "python",
   "name": "python3"
  },
  "language_info": {
   "codemirror_mode": {
    "name": "ipython",
    "version": 3
   },
   "file_extension": ".py",
   "mimetype": "text/x-python",
   "name": "python",
   "nbconvert_exporter": "python",
   "pygments_lexer": "ipython3",
   "version": "3.10.6"
  }
 },
 "nbformat": 4,
 "nbformat_minor": 2
}
