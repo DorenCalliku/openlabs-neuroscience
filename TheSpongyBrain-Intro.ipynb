{
 "cells": [
  {
   "cell_type": "markdown",
   "metadata": {
    "slideshow": {
     "slide_type": "slide"
    }
   },
   "source": [
    "\n",
    "\n",
    "<div class=\"row\">\n",
    "  <div class=\"col-md-7\" markdown=\"1\">\n",
    "      \n",
    "  <img height=\"800px\" class=\"center-block\" src=\"docs/imgs/the_spongy_brain.jpg\">\n",
    "\n",
    "\n",
    "  </div>\n",
    "  <div class=\"col-md-5\" markdown=\"1\">\n",
    "      <br>\n",
    "      <br>\n",
    "   \n",
    "- Introduction\n",
    "- Relevant Questions\n",
    "- Open resources\n",
    "    - MRI\n",
    "    - EEG\n",
    "    - Data science\n",
    "- <span style=\"color:teal; font-weight:bold;\">Fun New Topics !!!</span>\n",
    "- <span style=\"color:green; font-weight:bold;\">OpenLabs: Possible Contribution</span>\n",
    "- References\n",
    "      \n",
    "  </div>\n",
    "</div>\n",
    "\n",
    "\n",
    "\n"
   ]
  },
  {
   "cell_type": "markdown",
   "metadata": {
    "slideshow": {
     "slide_type": "slide"
    }
   },
   "source": [
    "## About me\n",
    "\n",
    "- __Doren__\n",
    "    - computer engineering @Bilkent-Turkey\n",
    "    - psychology & <span style=\"color:green; font-weight:bold;\">neuroscience</span> @Pavia-Italy\n",
    "- __Relevant-interests__\n",
    "    - __FAIR__ social/medical algorithms \n",
    "    - the implications of __neuropsychiatry__ in everyday life\n",
    "    - <span style=\"color:green; font-weight:bold;\">open tools</span> for understanding the human\n",
    "- __Others__\n",
    "    - web-dev\n",
    "    - data-science\n",
    "    - geo-tools"
   ]
  },
  {
   "cell_type": "markdown",
   "metadata": {
    "slideshow": {
     "slide_type": "slide"
    }
   },
   "source": [
    "> <span style=\"color:orange; font-weight:bold;\">WARNING</span>  \n",
    "> The content is based on sparse readings of the literature.   \n",
    "> It is by no means an overall introduction to neuroscience.\n",
    "\n",
    "\n",
    "> <span style=\"color:green; font-weight: bold;\">INFO</span>   \n",
    "> The topics might be __overwhelming__, so feel free to <span style=\"color:green; font-weight: bold;\">jump in</span> at anytime!"
   ]
  },
  {
   "cell_type": "markdown",
   "metadata": {
    "slideshow": {
     "slide_type": "slide"
    }
   },
   "source": [
    "## Relevant Questions\n",
    "\n",
    "<br>\n",
    "\n",
    "<div class=\"row\">\n",
    "  <div class=\"col-md-8\" markdown=\"1\">\n",
    "      \n",
    "- How is it to be?\n",
    "    - philosophy\n",
    "    - cognitive, social, developmental\n",
    "    - theoretical, computational\n",
    "\n",
    "- When/where is something broken?\n",
    "    - medical, imaging, electrophysiology\n",
    "    - demographics, tests, MRI, EEG, genetics\n",
    "\n",
    "- How to fix it?\n",
    "    - therapy, pharmacology, neurotech\n",
    "      \n",
    "- Where can tech help?\n",
    "    - kind of <span style=\"color:green; font-weight:bold;\">everywhere</span>...\n",
    "    \n",
    "  </div>\n",
    "  <div class=\"col-md-4\" markdown=\"1\">\n",
    "  <!-- ![Alt Text](docs/imgs/mri.jpg) -->\n",
    "  <img height=\"600px\" class=\"center-block\" src=\"docs/imgs/robin.png\">\n",
    "      <b>Fig.</b> Computational simulation of the cerebellum.\n",
    "  </div>\n",
    "</div>"
   ]
  },
  {
   "cell_type": "markdown",
   "metadata": {
    "slideshow": {
     "slide_type": "slide"
    }
   },
   "source": [
    "### Mapping the fields\n",
    "\n",
    "<br>\n",
    "\n",
    "<div class=\"row\">\n",
    "  <div class=\"col-md-6\" markdown=\"1\">\n",
    "      \n",
    "- The dimensions of neuroscience\n",
    "    - temporal\n",
    "    - spatial \n",
    "    - biological depth\n",
    "\n",
    "- How to handle complexity?\n",
    "    - <span style=\"color:green; font-weight:bold;\">pick a field, run with it</span>\n",
    "    - can knowledge can translate\n",
    "\n",
    "  </div>\n",
    "  <div class=\"col-md-6\" markdown=\"1\">\n",
    "\n",
    "    <img height=\"800px\" class=\"center-block\" src=\"docs/imgs/fields-1.png\">\n",
    "      <b>Fig.</b> How different dimensions integrate.\n",
    "  </div>\n",
    "</div>\n"
   ]
  },
  {
   "cell_type": "markdown",
   "metadata": {
    "slideshow": {
     "slide_type": "slide"
    }
   },
   "source": [
    "![](docs/imgs/openneuro.png)"
   ]
  },
  {
   "cell_type": "markdown",
   "metadata": {
    "slideshow": {
     "slide_type": "slide"
    }
   },
   "source": [
    "## Neuroimaging\n",
    "\n",
    "<div class=\"row\">\n",
    "  <div class=\"col-md-6\" markdown=\"1\">\n",
    "      \n",
    "\n",
    "    \n",
    "Can be useful for cognitive studies, stroke, oncology, or geriatrics.\n",
    "\n",
    "You can use <span style=\"color:green; font-weight:bold;\">open datasets</span> for studying diseases like AD, Autism, or Schizophrenia. The base idea of neuroimaging is that:\n",
    "\n",
    "- brain consumes oxygen ~ brain activity\n",
    "- oxygen usage ~ magnetic resonance\n",
    "      \n",
    "Most analytical tools are built in MATLAB/C++ (`afni`, `fsl`). Lately added some python wrappers (`nilearn`, `nipype`).\n",
    "    \n",
    "  </div>\n",
    "  <div class=\"col-md-6\" markdown=\"1\">\n",
    "  <!--<img height=\"400px\" class=\"center-block\" src=\"docs/imgs/mri-6.jpg\">-->\n",
    "  <img height=\"800px\" class=\"center-block\" src=\"docs/imgs/mri-4.png\">\n",
    "      <b>Fig.</b> Different types of MRI.\n",
    "      \n",
    "  <img height=\"800px\" class=\"center-block\" src=\"docs/imgs/mri-5.png\">\n",
    "      <b>Fig.</b> fMRI used for finding relevant nodes.\n",
    "     \n",
    "  </div>\n",
    "</div>"
   ]
  },
  {
   "cell_type": "markdown",
   "metadata": {
    "slideshow": {
     "slide_type": "slide"
    }
   },
   "source": [
    "#### How to: Neuroimaging"
   ]
  },
  {
   "cell_type": "code",
   "execution_count": 1,
   "metadata": {
    "slideshow": {
     "slide_type": "fragment"
    }
   },
   "outputs": [
    {
     "name": "stdout",
     "output_type": "stream",
     "text": [
      "total 196\n",
      "-rw-rw-r-- 1 delta delta   4184 gen 18 11:16 collection_metadata.json\n",
      "-rw-rw-r-- 1 delta delta   1802 gen 18 14:07 image_10426_metadata.json\n",
      "-rw-rw-r-- 1 delta delta 186649 gen 18 11:16 image_10426.nii.gz\n",
      "\n"
     ]
    },
    {
     "data": {
      "image/png": "[encoded data removed]",
      "text/plain": [
       "<Figure size 730x260 with 5 Axes>"
      ]
     },
     "metadata": {},
     "output_type": "display_data"
    }
   ],
   "source": [
    "# here analysis code\n",
    "# 1. read MRI\n",
    "from nilearn import datasets, plotting\n",
    "motor_images = datasets.fetch_neurovault_motor_task()  # downloads data\n",
    "\n",
    "# check what was downloaded\n",
    "!ls -l ~/nilearn_data/neurovault/*/\n",
    "\n",
    "# significance related image\n",
    "tmap_filename = motor_images.images[0]\n",
    "\n",
    "# 2. visualize MRI\n",
    "plotting.plot_stat_map(tmap_filename, threshold=3)\n",
    "print()"
   ]
  },
  {
   "cell_type": "markdown",
   "metadata": {
    "slideshow": {
     "slide_type": "slide"
    }
   },
   "source": [
    "<h4 id=\"Getting-started\">Getting started<a class=\"anchor-link\" href=\"#Getting-started\">&#182;</a></h4><ul>\n",
    "<li><a href=\"https://lukas-snoek.com/NI-edu/index.html\">Ni-Edu</a></li>\n",
    "<li><a href=\"https://dartbrains.org/content/intro.html\">DartBrains</a></li>\n",
    "<li><a href=\"https://andysbrainbook.readthedocs.io/en/latest/AFNI/AFNI_Overview.html\">Andy's Brain Book: AFNI</a> - a bit old, but good explanations.</li>\n",
    "</ul>\n",
    "<h4 id=\"Some-Tools\">Some Tools<a class=\"anchor-link\" href=\"#Some-Tools\">&#182;</a></h4><ul>\n",
    "<li><a href=\"\">AFNI</a> - step by step analysis - very good tool.</li>\n",
    "<li><a href=\"\">FSL</a> - software analysis toolbox - more combinations.</li>\n",
    "<li><a href=\"https://nilearn.github.io/\">nilearn</a> - python pipeline of analysis, as shown above.</li>\n",
    "</ul>\n"
   ]
  },
  {
   "cell_type": "markdown",
   "metadata": {
    "slideshow": {
     "slide_type": "slide"
    }
   },
   "source": [
    "## Electrophysiology\n",
    "\n",
    "\n",
    "<div class=\"row\">\n",
    "  <div class=\"col-md-6\" markdown=\"1\">\n",
    "      \n",
    "\n",
    "Can be useful for cognition, brain computer interfaces (__BCI__), epilepsy, or sleep studies.\n",
    "\n",
    "There are <span style=\"color:green; font-weight:bold;\">open datasets</span> for applying tools for recognizing brain waves that might be relevant to the clinical or cognitive studies. This can be helpful for prosthetics and cognitive trainings.\n",
    "\n",
    "The main analytical tools are `eeglab` (MATLAB) and `mne` (python).\n",
    "    \n",
    "  </div>\n",
    "  <div class=\"col-md-6\">\n",
    "  <img height=\"800px\" class=\"center-block\" src=\"docs/imgs/eeg-brain-function.jpg\">\n",
    "      \n",
    "    \n",
    "      \n",
    "  <img height=\"800px\" class=\"center-block\" src=\"docs/imgs/open-bci.png\">\n",
    "      <b>Fig.</b> Open-BCI waves.\n",
    "   \n",
    "  </div>\n",
    "</div>\n"
   ]
  },
  {
   "cell_type": "markdown",
   "metadata": {
    "slideshow": {
     "slide_type": "slide"
    }
   },
   "source": [
    "#### How to: Electrophysiology"
   ]
  },
  {
   "cell_type": "code",
   "execution_count": null,
   "metadata": {
    "slideshow": {
     "slide_type": "fragment"
    }
   },
   "outputs": [],
   "source": [
    "import numpy as np\n",
    "import mne\n",
    "\n",
    "# load sample data\n",
    "sample_data_folder = mne.datasets.sample.data_path()  # WARNING: ~1.65GB\n",
    "sample_data_raw_file = (sample_data_folder / 'MEG' / 'sample' /\n",
    "                        'sample_audvis_filt-0-40_raw.fif')\n",
    "raw = mne.io.read_raw_fif(sample_data_raw_file)\n",
    "\n",
    "raw.plot(duration=5, n_channels=30)"
   ]
  },
  {
   "cell_type": "code",
   "execution_count": null,
   "metadata": {
    "slideshow": {
     "slide_type": "fragment"
    }
   },
   "outputs": [],
   "source": [
    "# put in skull\n"
   ]
  },
  {
   "cell_type": "markdown",
   "metadata": {
    "slideshow": {
     "slide_type": "slide"
    }
   },
   "source": [
    "<h4 id=\"Getting-started\">Getting started<a class=\"anchor-link\" href=\"#Getting-started\">&#182;</a></h4><ul>\n",
    "<li><a href=\"https://neuro.inf.unibe.ch/AlgorithmsNeuroscience/Tutorial_files/Introduction.html\">UnivBern - EEG data processing</a></li>\n",
    "<li><a href=\"https://mne.tools/dev/index.html\">MNE documentation</a></li>\n",
    "</ul>\n",
    "<h4 id=\"Some-Tools\">Some Tools<a class=\"anchor-link\" href=\"#Some-Tools\">&#182;</a></h4><ul>\n",
    "<li><a href=\"https://mne.tools/dev/index.html\">MNE</a> - python tool for electrophysiology processing.</li>\n",
    "<li><a href=\"https://sccn.ucsd.edu/eeglab/index.php\">EEGLab</a>  - MATLAB tool for processing eeg.</li>\n",
    "</ul>\n"
   ]
  },
  {
   "cell_type": "markdown",
   "metadata": {
    "slideshow": {
     "slide_type": "slide"
    }
   },
   "source": [
    "#### EEG waves for Neuropsychiatry \n",
    "\n",
    "<img src=\"docs/imgs/brainwaves.png\" alt=\"Neuropsychiatric diseases and brain waves\" />"
   ]
  },
  {
   "cell_type": "markdown",
   "metadata": {
    "slideshow": {
     "slide_type": "slide"
    }
   },
   "source": [
    "## Data Science/ ML\n",
    "\n",
    "\n",
    "\n",
    "<div class=\"row\">\n",
    "  <div class=\"col-md-6\" markdown=\"1\">\n",
    "\n",
    "      \n",
    "Can be useful for multimodal data analysis, creating diagnostic/prognostic models for subjects. \n",
    "\n",
    "The open datasets for complex cases like neurodegeneration or psychiatric diseases allow for building models that can target also <span style=\"color:green; font-weight:bold;\">single cases</span>, and can provide baseline analysis.\n",
    "\n",
    "The analytical tools can be statistical models based on `R`, `python`, or `MATLAB`.\n",
    "      \n",
    "  </div>\n",
    "  <div class=\"col-md-6\" markdown=\"1\">\n",
    "  <img height=\"800px\" class=\"center-block\" src=\"docs/imgs/nacc-c-1.png\">\n",
    "      <b>Fig.</b> Impairment level - disorder. <br>\n",
    "      <span style=\"color: green\">FTLD</span>, <span style=\"color: orange\">DLB</span>, <span style=\"color: blue\">AD</span>, \n",
    "      <span style=\"color:brown\">VaD</span>, <span style=\"color: purple\">MCI</span>, <span style=\"color: red\">Healthy</span>\n",
    "    \n",
    "  </div>\n",
    "</div>\n",
    "\n"
   ]
  },
  {
   "cell_type": "markdown",
   "metadata": {
    "slideshow": {
     "slide_type": "slide"
    }
   },
   "source": [
    "#### How to: Datascience for tabular medical data."
   ]
  },
  {
   "cell_type": "markdown",
   "metadata": {
    "slideshow": {
     "slide_type": "fragment"
    }
   },
   "source": [
    "```python\n",
    "import pandas as pd\n",
    "from sklearn.model_selection import train_test_split\n",
    "from sklearn.scoring import f1_score # TODO: check which one is best\n",
    "from lightgbm import LGBMClassifier\n",
    "\n",
    "# get data\n",
    "df = pd.read_csv('data/ADNI.csv')\n",
    "X_train, X_test, y_train, y_test = train_test_split(\n",
    "    df.drop('DX', axis=1), df['DX'], test_size=1/3, random_state=0\n",
    ")\n",
    "```"
   ]
  },
  {
   "cell_type": "markdown",
   "metadata": {
    "slideshow": {
     "slide_type": "fragment"
    }
   },
   "source": [
    "```python\n",
    "# create classifier\n",
    "classifier = LGBMClassifier()\n",
    "classifier.fit(X_train, y_train)\n",
    "print(f1_score(X_test, y_test))\n",
    "```"
   ]
  },
  {
   "cell_type": "markdown",
   "metadata": {
    "slideshow": {
     "slide_type": "slide"
    }
   },
   "source": [
    "\n",
    "<img height=\"800px\" class=\"center-block\" src=\"docs/imgs/4.adni-sensitivity.png\">\n",
    "\n",
    "<img height=\"800px\" class=\"center-block\" src=\"docs/imgs/4.nacc-sensitivity.png\">\n"
   ]
  },
  {
   "cell_type": "markdown",
   "metadata": {
    "slideshow": {
     "slide_type": "slide"
    }
   },
   "source": [
    "### Prognosis through deep learning models\n",
    "\n",
    "![](docs/imgs/prognosis.png)\n"
   ]
  },
  {
   "cell_type": "markdown",
   "metadata": {
    "slideshow": {
     "slide_type": "slide"
    }
   },
   "source": [
    "## Fun New Topics !!!\n",
    "\n",
    "- <span style=\"color:teal; font-weight:bold;\">Neurotech</span>: body control through brain waves!\n",
    "- <span style=\"color:teal; font-weight:bold;\">Neurogenetics</span>: comparing brains with evolution-related projects.\n",
    "- <span style=\"color:teal; font-weight:bold;\">Neuropsychology</span>: body dysmorphia disorders.\n",
    "- <span style=\"color:teal; font-weight:bold;\">Neuropharmacology</span>: developing drugs through open-science."
   ]
  },
  {
   "cell_type": "markdown",
   "metadata": {
    "slideshow": {
     "slide_type": "slide"
    }
   },
   "source": [
    "##  OpenLabs: Possible Contribution\n",
    "\n",
    "- <span style=\"color:green; font-weight:bold;\">BCI</span>: test tools related to BCI in the lab (muse/OpenBCI headset).\n",
    "- <span style=\"color:green; font-weight:bold;\">Testify</span>: translate neuropsychological tests to ALB, help with standardization.\n",
    "    - relevant for neurodegenerative diseases - <a href=\"https://naccdata.org/data-collection/forms-documentation/uds-3\">link to NACC study (extensive testing)</a>\n",
    "    - relevant for psychiatric diseases - <a href=\"https://camcops.readthedocs.io/en/latest/tasks/_tasks_by_category.html\">link to cambridge testing tool (open source)</a>\n",
    "\n",
    "- <span style=\"color:green; font-weight:bold;\">3D-Brain</span>: collaborate with _fab-lab_\n",
    "    - OpenLabs-Tr creates a base structure\n",
    "    - fab-lab fills the gaps through spongy material\n",
    "    - __Voila!__ You have <span style=\"color:teal; font-weight:bold;\">THE SPONGY BRAIN</span>!!!\n",
    "- <span style=\"color:green; font-weight:bold;\">Hackathon</span>: a hackathon for neuroscience in AL, including topics mentioned today.\n",
    "    - <a href=\"https://github.com/neurohackademy\">neurohack-academy</a> (great source!)\n",
    "    - <a href=\"https://brainhack.org/\">brainhack</a> (possible partner)\n",
    "    - <a href=\"https://www.neuralhacks.org/\">neural-hack</a>\n",
    "- <span style=\"color:green; font-weight:bold;\">Open-source tools</span>: translate tools to AL, improve existing MRI/EEG/Data-science tools."
   ]
  },
  {
   "cell_type": "markdown",
   "metadata": {
    "slideshow": {
     "slide_type": "slide"
    }
   },
   "source": [
    "## References\n",
    "\n",
    "- Research\n",
    "    - Robin: https://www.nature.com/articles/s42003-022-04213-y\n",
    "    - Prognosis: https://ieeexplore.ieee.org/ielaam/6221020/8984617/8765241-aam.pdf\n",
    " \n",
    "- Open-*\n",
    "    - OpenNeuro\n",
    "    - MNE-Python\n",
    "    - EEGLab\n",
    "    - Open-Targets\n",
    "\n"
   ]
  },
  {
   "cell_type": "code",
   "execution_count": null,
   "metadata": {
    "slideshow": {
     "slide_type": "skip"
    }
   },
   "outputs": [],
   "source": []
  }
 ],
 "metadata": {
  "celltoolbar": "Slideshow",
  "kernelspec": {
   "display_name": "Python 3 (ipykernel)",
   "language": "python",
   "name": "python3"
  },
  "language_info": {
   "codemirror_mode": {
    "name": "ipython",
    "version": 3
   },
   "file_extension": ".py",
   "mimetype": "text/x-python",
   "name": "python",
   "nbconvert_exporter": "python",
   "pygments_lexer": "ipython3",
   "version": "3.10.6"
  },
  "vscode": {
   "interpreter": {
    "hash": "e7370f93d1d0cde622a1f8e1c04877d8463912d04d973331ad4851f04de6915a"
   }
  }
 },
 "nbformat": 4,
 "nbformat_minor": 2
}
